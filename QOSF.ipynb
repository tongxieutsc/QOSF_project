{
 "cells": [
  {
   "cell_type": "markdown",
   "id": "ee0c3724",
   "metadata": {},
   "source": [
    "### Q(1):"
   ]
  },
  {
   "cell_type": "code",
   "execution_count": 1,
   "id": "4f8686e3",
   "metadata": {},
   "outputs": [
    {
     "ename": "ModuleNotFoundError",
     "evalue": "No module named 'qiskit'",
     "output_type": "error",
     "traceback": [
      "\u001b[0;31m---------------------------------------------------------------------------\u001b[0m",
      "\u001b[0;31mModuleNotFoundError\u001b[0m                       Traceback (most recent call last)",
      "Cell \u001b[0;32mIn[1], line 1\u001b[0m\n\u001b[0;32m----> 1\u001b[0m \u001b[38;5;28;01mfrom\u001b[39;00m \u001b[38;5;21;01mqiskit\u001b[39;00m \u001b[38;5;28;01mimport\u001b[39;00m Aer, QuantumCircuit, transpile, assemble, QuantumRegister\n\u001b[1;32m      2\u001b[0m \u001b[38;5;28;01mfrom\u001b[39;00m \u001b[38;5;21;01mqiskit\u001b[39;00m\u001b[38;5;21;01m.\u001b[39;00m\u001b[38;5;21;01mvisualization\u001b[39;00m \u001b[38;5;28;01mimport\u001b[39;00m plot_histogram\n",
      "\u001b[0;31mModuleNotFoundError\u001b[0m: No module named 'qiskit'"
     ]
    }
   ],
   "source": [
    "from qiskit import Aer, QuantumCircuit, transpile, assemble, QuantumRegister\n",
    "from qiskit.visualization import plot_histogram"
   ]
  },
  {
   "cell_type": "code",
   "execution_count": 2,
   "id": "0854eda8",
   "metadata": {},
   "outputs": [],
   "source": [
    "def find_the_primes_numbers(number_1, primes_list, number_2):\n",
    "    if len(primes_list) < 2:\n",
    "        raise ValueError(\"The list of prime numbers must contain at least two elements.\")\n",
    "\n",
    "    for i in range(len(primes_list)):\n",
    "        for j in range(i + 1, len(primes_list)):\n",
    "            if primes_list[i] + primes_list[j] == number_1:\n",
    "                number_a = primes_list[i]\n",
    "                number_b = primes_list[j]\n",
    "                return number_a, number_b\n",
    "                n = len(bin(number_1)) - 2  \n",
    "    \n",
    "\n",
    "    qr = QuantumRegister(n, 'q')\n",
    "    circuit = QuantumCircuit(qr)\n",
    "\n",
    "    circuit.h(qr)\n",
    "\n",
    "    for prime in primes_list:\n",
    "        circuit.x(qr[0:n])\n",
    "        circuit.append(cirq_gate(prime, number_1), qr)\n",
    "        circuit.measure_all()\n",
    "\n",
    "        backend = Aer.get_backend('qasm_simulator')\n",
    "        shots = 1024\n",
    "        transpiled_circuit = transpile(circuit, backend)\n",
    "        qobj = assemble(transpiled_circuit, shots=shots)\n",
    "        result = backend.run(qobj).result()\n",
    "\n",
    "        counts = result.get_counts()\n",
    "        for state, count in counts.items():\n",
    "            measured_number = int(state, 2)\n",
    "            if measured_number == 0:\n",
    "                continue\n",
    "            if measured_number % prime == 0:\n",
    "                other_factor = number_1 // measured_number\n",
    "                if other_factor in primes_list:\n",
    "                    return measured_number, other_factor\n",
    "\n",
    "    raise ValueError(\"No pair of prime numbers in the list sums to the given positive integer.\")"
   ]
  },
  {
   "cell_type": "code",
   "execution_count": 3,
   "id": "b84298cc",
   "metadata": {},
   "outputs": [
    {
     "ename": "NameError",
     "evalue": "name 'QuantumRegister' is not defined",
     "output_type": "error",
     "traceback": [
      "\u001b[0;31m---------------------------------------------------------------------------\u001b[0m",
      "\u001b[0;31mNameError\u001b[0m                                 Traceback (most recent call last)",
      "Cell \u001b[0;32mIn[3], line 8\u001b[0m\n\u001b[1;32m      5\u001b[0m primes_list \u001b[38;5;241m=\u001b[39m [\u001b[38;5;241m2\u001b[39m, \u001b[38;5;241m3\u001b[39m, \u001b[38;5;241m5\u001b[39m, \u001b[38;5;241m7\u001b[39m, \u001b[38;5;241m11\u001b[39m, \u001b[38;5;241m13\u001b[39m, \u001b[38;5;241m17\u001b[39m, \u001b[38;5;241m19\u001b[39m, \u001b[38;5;241m23\u001b[39m, \u001b[38;5;241m29\u001b[39m, \u001b[38;5;241m31\u001b[39m]\n\u001b[1;32m      6\u001b[0m number_2 \u001b[38;5;241m=\u001b[39m \u001b[38;5;241m2\u001b[39m\n\u001b[0;32m----> 8\u001b[0m result \u001b[38;5;241m=\u001b[39m \u001b[43mfind_the_primes_numbers\u001b[49m\u001b[43m(\u001b[49m\u001b[43mnumber_1\u001b[49m\u001b[43m,\u001b[49m\u001b[43m \u001b[49m\u001b[43mprimes_list\u001b[49m\u001b[43m,\u001b[49m\u001b[43m \u001b[49m\u001b[43mnumber_2\u001b[49m\u001b[43m)\u001b[49m\n\u001b[1;32m      9\u001b[0m \u001b[38;5;28mprint\u001b[39m(\u001b[38;5;124mf\u001b[39m\u001b[38;5;124m\"\u001b[39m\u001b[38;5;124mThe prime numbers are: \u001b[39m\u001b[38;5;132;01m{\u001b[39;00mresult\u001b[38;5;132;01m}\u001b[39;00m\u001b[38;5;124m\"\u001b[39m)\n",
      "Cell \u001b[0;32mIn[2], line 14\u001b[0m, in \u001b[0;36mfind_the_primes_numbers\u001b[0;34m(number_1, primes_list, number_2)\u001b[0m\n\u001b[1;32m     10\u001b[0m             \u001b[38;5;28;01mreturn\u001b[39;00m number_a, number_b\n\u001b[1;32m     11\u001b[0m             n \u001b[38;5;241m=\u001b[39m \u001b[38;5;28mlen\u001b[39m(\u001b[38;5;28mbin\u001b[39m(number_1)) \u001b[38;5;241m-\u001b[39m \u001b[38;5;241m2\u001b[39m  \n\u001b[0;32m---> 14\u001b[0m qr \u001b[38;5;241m=\u001b[39m \u001b[43mQuantumRegister\u001b[49m(n, \u001b[38;5;124m'\u001b[39m\u001b[38;5;124mq\u001b[39m\u001b[38;5;124m'\u001b[39m)\n\u001b[1;32m     15\u001b[0m circuit \u001b[38;5;241m=\u001b[39m QuantumCircuit(qr)\n\u001b[1;32m     17\u001b[0m circuit\u001b[38;5;241m.\u001b[39mh(qr)\n",
      "\u001b[0;31mNameError\u001b[0m: name 'QuantumRegister' is not defined"
     ]
    }
   ],
   "source": [
    "def cirq_gate(a, N):\n",
    "    return None  \n",
    "\n",
    "number_1 = 35\n",
    "primes_list = [2, 3, 5, 7, 11, 13, 17, 19, 23, 29, 31]\n",
    "number_2 = 2\n",
    "\n",
    "result = find_the_primes_numbers(number_1, primes_list, number_2)\n",
    "print(f\"The prime numbers are: {result}\")"
   ]
  },
  {
   "cell_type": "markdown",
   "id": "d6a07580",
   "metadata": {},
   "source": [
    "### Q(2)"
   ]
  },
  {
   "cell_type": "code",
   "execution_count": null,
   "id": "9674ce90",
   "metadata": {},
   "outputs": [],
   "source": []
  }
 ],
 "metadata": {
  "kernelspec": {
   "display_name": "Python 3 (ipykernel)",
   "language": "python",
   "name": "python3"
  },
  "language_info": {
   "codemirror_mode": {
    "name": "ipython",
    "version": 3
   },
   "file_extension": ".py",
   "mimetype": "text/x-python",
   "name": "python",
   "nbconvert_exporter": "python",
   "pygments_lexer": "ipython3",
   "version": "3.10.8"
  }
 },
 "nbformat": 4,
 "nbformat_minor": 5
}
